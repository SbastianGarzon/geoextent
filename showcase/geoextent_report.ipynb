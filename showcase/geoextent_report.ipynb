{
 "cells": [
  {
   "cell_type": "markdown",
   "metadata": {},
   "source": [
    "# Report Geoextent"
   ]
  },
  {
   "cell_type": "markdown",
   "metadata": {},
   "source": [
    "Ideas for 'abstract'\n",
    "\n",
    "Academics studies generally include a geographical extent.\n",
    "\n",
    "Academic repositories store all kind of files that allow reasearchers to share information about their investigations. Some of those files include the analyzed datasets or the code used for their analysis. In this regard, the files available in each repositority include not only the information of individual measurements or methods but multiple information as the temporal or spatial extent of the studies. \n",
    "\n",
    "Temporal and spatial extent are properties that are present in almost all studies, however while searching for public repositories by an spatial component this query is most of the time limited to key words (e.g. name of countries). \n",
    "\n",
    "Multiple types of data -> hard to define a geographic extension\n",
    "\n",
    "\n",
    "Objective: \n",
    "\n",
    "Extract geographycal extent of academic repositories."
   ]
  },
  {
   "cell_type": "markdown",
   "metadata": {},
   "source": [
    "# Introduction"
   ]
  },
  {
   "cell_type": "markdown",
   "metadata": {},
   "source": [
    "## Database extraction"
   ]
  },
  {
   "cell_type": "markdown",
   "metadata": {},
   "source": [
    "These sets of functions download databases by using their DOI from four academic repositories. The functions also extracts the metadata of the database (e.g., location if available)."
   ]
  },
  {
   "cell_type": "markdown",
   "metadata": {},
   "source": [
    "### DOI to repository identification"
   ]
  },
  {
   "cell_type": "code",
   "execution_count": 1,
   "metadata": {},
   "outputs": [],
   "source": [
    "#TODO\n",
    "# This functions use as an input the DOI of a dataset and returns the name of the academic repository where it\n",
    "# is hosted (Zenodo,Figshare,GFZ Data Services, Pangaea) and their ID in the corresponding repository."
   ]
  },
  {
   "cell_type": "markdown",
   "metadata": {},
   "source": [
    "#### Zenodo\n",
    "##### Getting list of records\n",
    "The following method extracts all the zenodo ids from an specific search term."
   ]
  },
  {
   "cell_type": "code",
   "execution_count": 104,
   "metadata": {},
   "outputs": [],
   "source": [
    "import requests\n",
    "def get_list_of_records(term,mb_size):\n",
    "    \n",
    "    size = mb_size*1000000\n",
    "    \n",
    "    response_hits = requests.get('https://zenodo.org/api/records/',\n",
    "                              params={'q':str(term),\n",
    "                                      \"access_right\":\"open\",\n",
    "                                      \"size\" : \"1\",\n",
    "                                     \"type\":\"dataset\"})\n",
    "    hits = response_hits.json()['hits']['total']\n",
    "    \n",
    "    print(\"{} repositories found for '{}' query search term\".format(hits,term))\n",
    "    zenodo_ids = []\n",
    "    \n",
    "    if hits > 0 :\n",
    "        \n",
    "        response = requests.get('https://zenodo.org/api/records/',\n",
    "                              params={'q':'geo',\"access_right\":\"open\",\"size\" : str(hits),\"type\":\"dataset\"})\n",
    "        \n",
    "        content = response.json()\n",
    "\n",
    "    for i in range(0,hits):\n",
    "        if content['hits']['hits'][i]['files'][0]['size']<= size:  \n",
    "            zenodo_ids.append(content['hits']['hits'][i]['conceptrecid'])\n",
    "    \n",
    "    print(\"{} out of {} repositories smaller than {} MB\".format(len(zenodo_ids),hits,mb_size))\n",
    "        \n",
    "    return zenodo_ids\n"
   ]
  },
  {
   "cell_type": "markdown",
   "metadata": {},
   "source": [
    "#### Figshare\n"
   ]
  },
  {
   "cell_type": "code",
   "execution_count": 105,
   "metadata": {},
   "outputs": [],
   "source": [
    "#TODO\n",
    "\n",
    "# This function downloads a Figshare repository and extracts the available metadata"
   ]
  },
  {
   "cell_type": "markdown",
   "metadata": {},
   "source": [
    "#### GFZ Data Services"
   ]
  },
  {
   "cell_type": "code",
   "execution_count": 106,
   "metadata": {},
   "outputs": [],
   "source": [
    "#TODO\n",
    "\n",
    "# This function downloads a GFZ Data Services repository and extracts the available metadata"
   ]
  },
  {
   "cell_type": "markdown",
   "metadata": {},
   "source": [
    "#### Pangaea"
   ]
  },
  {
   "cell_type": "code",
   "execution_count": 107,
   "metadata": {},
   "outputs": [],
   "source": [
    "#TODO\n",
    "\n",
    "# This function downloads a Pangaea repository and extracts the available metadata"
   ]
  },
  {
   "cell_type": "markdown",
   "metadata": {},
   "source": [
    "### Geographic extent"
   ]
  },
  {
   "cell_type": "markdown",
   "metadata": {},
   "source": [
    "These sets of functions iterate through the repositories and extract the geospatial information."
   ]
  },
  {
   "cell_type": "markdown",
   "metadata": {},
   "source": [
    "1. If an extent is found (or if not = NA), Add record URL, ID, and some record metadata (names of contained files, author, repository URL, license, ...),  and the resulting extent in WKT in a local \"database\" in GeoPackage format.\n",
    "\n",
    "2. If not extent is found, store the record as visited and the list of filenames in a second data file"
   ]
  },
  {
   "cell_type": "code",
   "execution_count": 108,
   "metadata": {},
   "outputs": [],
   "source": [
    "import geoextent.lib.extent as geoextent\n",
    "import zenodo_get as zget\n",
    "import tempfile\n",
    "import os "
   ]
  },
  {
   "cell_type": "code",
   "execution_count": 109,
   "metadata": {},
   "outputs": [],
   "source": [
    "def zenodo_geoextent(zenodo_id):\n",
    "    with tempfile.TemporaryDirectory() as tmp_dir:\n",
    "        print(zenodo_id)\n",
    "        file = tmp_dir+str(zenodo_id)+\".txt\"\n",
    "        zget.zenodo_get([str(zenodo_id),\"-w\",file])\n",
    "        command = 'wget -i ' + file +\" -P \" + tmp_dir\n",
    "        os.system(command)\n",
    "        f = geoextent.fromDirectory(tmp_dir, True, True)\n",
    "        geo_extent = {'id':zenodo_id,'geoextent':f}\n",
    "        \n",
    "    return geo_extent"
   ]
  },
  {
   "cell_type": "code",
   "execution_count": 110,
   "metadata": {},
   "outputs": [
    {
     "name": "stdout",
     "output_type": "stream",
     "text": [
      "212 repositories found for 'geo' query search term\n",
      "150 out of 212 repositories smaller than 100 MB\n"
     ]
    }
   ],
   "source": [
    "geo = get_list_of_records(\"geo\",100)"
   ]
  },
  {
   "cell_type": "code",
   "execution_count": 111,
   "metadata": {
    "scrolled": false
   },
   "outputs": [
    {
     "name": "stdout",
     "output_type": "stream",
     "text": [
      "3522318\n"
     ]
    },
    {
     "name": "stderr",
     "output_type": "stream",
     "text": [
      "WARNING:geoextent:The folder /tmp/tmpg0xxrx0l has no identifiable bbox - Coordinate reference system (CRS) may be missing\n",
      "WARNING:geoextent:The folder /tmp/tmpg0xxrx0l has no identifiable time extent\n"
     ]
    },
    {
     "name": "stdout",
     "output_type": "stream",
     "text": [
      "630617\n"
     ]
    },
    {
     "name": "stderr",
     "output_type": "stream",
     "text": [
      "WARNING:geoextent:The folder /tmp/tmpu9tmmnvr has no identifiable bbox - Coordinate reference system (CRS) may be missing\n",
      "WARNING:geoextent:The folder /tmp/tmpu9tmmnvr has no identifiable time extent\n"
     ]
    },
    {
     "name": "stdout",
     "output_type": "stream",
     "text": [
      "1435242\n"
     ]
    },
    {
     "name": "stderr",
     "output_type": "stream",
     "text": [
      "WARNING:geoextent:The folder /tmp/tmpkfcnr0mh has no identifiable bbox - Coordinate reference system (CRS) may be missing\n",
      "WARNING:geoextent:The folder /tmp/tmpkfcnr0mh has no identifiable time extent\n"
     ]
    },
    {
     "name": "stdout",
     "output_type": "stream",
     "text": [
      "4153880\n"
     ]
    },
    {
     "name": "stderr",
     "output_type": "stream",
     "text": [
      "WARNING:geoextent:The folder /tmp/tmpnq3us_bu has no identifiable bbox - Coordinate reference system (CRS) may be missing\n",
      "WARNING:geoextent:The folder /tmp/tmpnq3us_bu has no identifiable time extent\n"
     ]
    },
    {
     "name": "stdout",
     "output_type": "stream",
     "text": [
      "2632025\n"
     ]
    },
    {
     "name": "stderr",
     "output_type": "stream",
     "text": [
      "WARNING:geoextent:The folder /tmp/tmpbz8tlos7 has no identifiable bbox - Coordinate reference system (CRS) may be missing\n",
      "WARNING:geoextent:The folder /tmp/tmpbz8tlos7 has no identifiable time extent\n"
     ]
    },
    {
     "name": "stdout",
     "output_type": "stream",
     "text": [
      "3747112\n"
     ]
    },
    {
     "name": "stderr",
     "output_type": "stream",
     "text": [
      "WARNING:geoextent:The folder /tmp/tmp9ife0ycs has no identifiable bbox - Coordinate reference system (CRS) may be missing\n",
      "WARNING:geoextent:The folder /tmp/tmp9ife0ycs has no identifiable time extent\n"
     ]
    },
    {
     "name": "stdout",
     "output_type": "stream",
     "text": [
      "1421304\n"
     ]
    },
    {
     "name": "stderr",
     "output_type": "stream",
     "text": [
      "WARNING:geoextent:The folder /tmp/tmpjpx919hu has no identifiable bbox - Coordinate reference system (CRS) may be missing\n",
      "WARNING:geoextent:The folder /tmp/tmpjpx919hu has no identifiable time extent\n"
     ]
    },
    {
     "name": "stdout",
     "output_type": "stream",
     "text": [
      "647503\n"
     ]
    },
    {
     "name": "stderr",
     "output_type": "stream",
     "text": [
      "WARNING:geoextent:The folder /tmp/tmpv8i97v68 has no identifiable bbox - Coordinate reference system (CRS) may be missing\n",
      "WARNING:geoextent:The folder /tmp/tmpv8i97v68 has no identifiable time extent\n"
     ]
    },
    {
     "name": "stdout",
     "output_type": "stream",
     "text": [
      "2432044\n"
     ]
    },
    {
     "name": "stderr",
     "output_type": "stream",
     "text": [
      "WARNING:geoextent:The folder /tmp/tmpiw_xiqih has no identifiable bbox - Coordinate reference system (CRS) may be missing\n",
      "WARNING:geoextent:The folder /tmp/tmpiw_xiqih has no identifiable time extent\n"
     ]
    }
   ],
   "source": [
    "repository_list = geo[1:10]\n",
    "results = {}\n",
    "\n",
    "for i in repository_list:\n",
    "    results[i] = zenodo_geoextent(i)\n",
    "    "
   ]
  },
  {
   "cell_type": "code",
   "execution_count": 112,
   "metadata": {},
   "outputs": [
    {
     "data": {
      "text/plain": [
       "{'3522318': {'id': '3522318', 'geoextent': {'format': 'folder'}},\n",
       " '630617': {'id': '630617', 'geoextent': {'format': 'folder'}},\n",
       " '1435242': {'id': '1435242', 'geoextent': {'format': 'folder'}},\n",
       " '4153880': {'id': '4153880', 'geoextent': {'format': 'folder'}},\n",
       " '2632025': {'id': '2632025', 'geoextent': {'format': 'folder'}},\n",
       " '3747112': {'id': '3747112', 'geoextent': {'format': 'folder'}},\n",
       " '1421304': {'id': '1421304', 'geoextent': {'format': 'folder'}},\n",
       " '647503': {'id': '647503', 'geoextent': {'format': 'folder'}},\n",
       " '2432044': {'id': '2432044', 'geoextent': {'format': 'folder'}}}"
      ]
     },
     "execution_count": 112,
     "metadata": {},
     "output_type": "execute_result"
    }
   ],
   "source": [
    "results"
   ]
  },
  {
   "cell_type": "markdown",
   "metadata": {},
   "source": [
    "### Geoextent "
   ]
  },
  {
   "cell_type": "markdown",
   "metadata": {},
   "source": [
    "\n"
   ]
  },
  {
   "cell_type": "markdown",
   "metadata": {},
   "source": [
    "# Results"
   ]
  },
  {
   "cell_type": "markdown",
   "metadata": {},
   "source": [
    "**GRAPH 1: Proportion of repositories with geospatial metadata**"
   ]
  },
  {
   "cell_type": "code",
   "execution_count": 16,
   "metadata": {},
   "outputs": [],
   "source": [
    "# NUMBER OF REPOSITORIES WITH GEOSPATIAL METADATA / NUMBER OF REPOSITORIES\n",
    "# what do they answer? \n",
    "# Proportion of repositories with geospatial metadata"
   ]
  },
  {
   "cell_type": "markdown",
   "metadata": {},
   "source": [
    "**GRAPH 2: Proportion of repositories with successful geospatial extraction (Geoextent)**"
   ]
  },
  {
   "cell_type": "code",
   "execution_count": 15,
   "metadata": {},
   "outputs": [],
   "source": [
    "# NUMBER OF REPOSITORIES WITH SUCCESSFULL GEOSPATIAL EXTRACTION / NUMBER OF REPOSITORIES\n",
    "# what do they answer? \n",
    "# Does geoextent allow to extract geospatial information from repositories in a higher proportion that current metadata ?"
   ]
  },
  {
   "cell_type": "markdown",
   "metadata": {},
   "source": [
    "**GRAPH 3: Distribution of files in repositories with successful geospatial extraction (Geoextent)**"
   ]
  },
  {
   "cell_type": "code",
   "execution_count": null,
   "metadata": {},
   "outputs": [],
   "source": [
    "# DISTRIBUTION OF FILES IN SUCCESSFUL GEOSPATIAL EXTRACTION\n",
    "# what do they answer?\n",
    "# What types of files (supported by geoextent) are more popular in the repositories ?"
   ]
  },
  {
   "cell_type": "markdown",
   "metadata": {},
   "source": [
    "**GRAPH 4: Distribution of (geo)files in repositories with unsuccessful geospatial extraction (Geoextent)**"
   ]
  },
  {
   "cell_type": "code",
   "execution_count": 18,
   "metadata": {},
   "outputs": [],
   "source": [
    "# DISTRIBUTION OF FILES IN UNSUCCESSFUL GEOSPATIAL EXTRACTIONS\n",
    "# what do they answer?\n",
    "# What type of files (geo but not supported by geoextent) are more popular in the repositories?"
   ]
  }
 ],
 "metadata": {
  "jupytext": {
   "formats": "ipynb,py"
  },
  "kernelspec": {
   "display_name": "Python 3",
   "language": "python",
   "name": "python3"
  },
  "language_info": {
   "codemirror_mode": {
    "name": "ipython",
    "version": 3
   },
   "file_extension": ".py",
   "mimetype": "text/x-python",
   "name": "python",
   "nbconvert_exporter": "python",
   "pygments_lexer": "ipython3",
   "version": "3.6.9"
  }
 },
 "nbformat": 4,
 "nbformat_minor": 4
}
