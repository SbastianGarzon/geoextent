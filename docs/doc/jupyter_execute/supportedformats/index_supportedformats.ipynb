{
 "cells": [
  {
   "cell_type": "code",
   "execution_count": 1,
   "metadata": {},
   "outputs": [
    {
     "name": "stdout",
     "output_type": "stream",
     "text": [
      "\n",
      "Supported formats:\n",
      "- GeoJSON (.geojson)\n",
      "- Tabular data (.csv)\n",
      "- Shapefile (.shp)\n",
      "- GeoTIFF (.geotiff, .tif)\n",
      "\n"
     ]
    }
   ],
   "source": [
    "import geoextent.__main__ as geoextent\n",
    "geoextent.print_supported_formats()"
   ]
  },
  {
   "cell_type": "code",
   "execution_count": 2,
   "metadata": {},
   "outputs": [],
   "source": [
    "def get_showcase_file(folder_name, url, unzip_file = None):\n",
    "   import subprocess\n",
    "\n",
    "   # Download showcase file and extract geoextent data\n",
    "   subprocess.run('mkdir -p showcase_folder', shell=True)\n",
    "   subprocess.run('wget -P showcase_folder '+ url, shell=True)\n",
    "\n",
    "   if unzip_file:\n",
    "      subprocess.run('cd showcase_folder; unzip '+ unzip_file, shell=True)"
   ]
  },
  {
   "cell_type": "code",
   "execution_count": 3,
   "metadata": {},
   "outputs": [
    {
     "name": "stderr",
     "output_type": "stream",
     "text": [
      "INFO:root:Extracting bbox=True tbox=True from file showcase_folder/muenster_ring_zeit.geojson\n"
     ]
    },
    {
     "name": "stderr",
     "output_type": "stream",
     "text": [
      "INFO:root:Module used: geojson\n"
     ]
    },
    {
     "name": "stderr",
     "output_type": "stream",
     "text": [
      "INFO:root:Checking validity of showcase_folder/muenster_ring_zeit.geojson \n",
      "\n"
     ]
    },
    {
     "name": "stderr",
     "output_type": "stream",
     "text": [
      "INFO:root:Extracting content from path showcase_folder/muenster_ring_zeit.geojson \n",
      "\n"
     ]
    },
    {
     "name": "stderr",
     "output_type": "stream",
     "text": [
      "INFO:root:Extracting content from path showcase_folder/muenster_ring_zeit.geojson \n",
      "\n"
     ]
    },
    {
     "name": "stderr",
     "output_type": "stream",
     "text": [
      "ERROR:geoextent.lib.extent:\n"
     ]
    },
    {
     "data": {
      "text/plain": [
       "{'format': 'application/geojson',\n",
       " 'crs': 4326,\n",
       " 'tbox': ['2018-11-14', '2018-11-14'],\n",
       " 'bbox': [7.60168075561523,\n",
       "  51.9488147720619,\n",
       "  7.64725685119629,\n",
       "  51.9746240298775]}"
      ]
     },
     "execution_count": 3,
     "metadata": {},
     "output_type": "execute_result"
    }
   ],
   "source": [
    "import geoextent.lib.extent as geoextent\n",
    "\n",
    "dir_name = 'showcase_geojson'\n",
    "file_url = 'https://raw.githubusercontent.com/o2r-project/geoextent/master/tests/testdata/geojson/muenster_ring_zeit.geojson'\n",
    "get_showcase_file(dir_name, file_url)\n",
    "\n",
    "geoextent.fromFile('showcase_folder/muenster_ring_zeit.geojson', True, True)"
   ]
  },
  {
   "cell_type": "code",
   "execution_count": 4,
   "metadata": {},
   "outputs": [
    {
     "name": "stderr",
     "output_type": "stream",
     "text": [
      "INFO:root:Extracting bbox=True tbox=True from file showcase_folder/cities_NL.csv\n"
     ]
    },
    {
     "name": "stderr",
     "output_type": "stream",
     "text": [
      "INFO:root:Module used: csv\n"
     ]
    },
    {
     "name": "stderr",
     "output_type": "stream",
     "text": [
      "INFO:root:Checking validity of showcase_folder/cities_NL.csv \n",
      "\n"
     ]
    },
    {
     "name": "stderr",
     "output_type": "stream",
     "text": [
      "ERROR:geoextent.lib.extent:\n"
     ]
    },
    {
     "data": {
      "text/plain": [
       "{'format': 'text/csv',\n",
       " 'bbox': [4.3175, 51.434444, 6.574722, 53.217222],\n",
       " 'tbox': ['30.09.2018', '30.09.2018'],\n",
       " 'crs': '4326'}"
      ]
     },
     "execution_count": 4,
     "metadata": {},
     "output_type": "execute_result"
    }
   ],
   "source": [
    "import geoextent.lib.extent as geoextent\n",
    "\n",
    "dir_name = 'showcase_csv'\n",
    "file_url = 'https://sandbox.zenodo.org/record/256820/files/cities_NL.csv'\n",
    "get_showcase_file(dir_name, file_url)\n",
    "\n",
    "geoextent.fromFile('showcase_folder/cities_NL.csv', True, True)"
   ]
  },
  {
   "cell_type": "code",
   "execution_count": 5,
   "metadata": {},
   "outputs": [
    {
     "name": "stderr",
     "output_type": "stream",
     "text": [
      "INFO:root:Extracting bbox=True tbox=False from file showcase_folder/wf_100m_klas.tif\n"
     ]
    },
    {
     "name": "stderr",
     "output_type": "stream",
     "text": [
      "INFO:root:Module used: tif\n"
     ]
    },
    {
     "name": "stderr",
     "output_type": "stream",
     "text": [
      "INFO:root:Checking validity of showcase_folder/wf_100m_klas.tif \n",
      "\n"
     ]
    },
    {
     "name": "stderr",
     "output_type": "stream",
     "text": [
      "ERROR:geoextent.lib.extent:\n"
     ]
    },
    {
     "name": "stderr",
     "output_type": "stream",
     "text": [
      "ERROR:geoextent.lib.extent:\n"
     ]
    },
    {
     "data": {
      "text/plain": [
       "{'format': 'image/tiff',\n",
       " 'bbox': [5.91530075647532,\n",
       "  50.3102519741084,\n",
       "  9.46839871248415,\n",
       "  52.5307755328733],\n",
       " 'crs': '4326'}"
      ]
     },
     "execution_count": 5,
     "metadata": {},
     "output_type": "execute_result"
    },
    {
     "name": "stderr",
     "output_type": "stream",
     "text": [
      "ERROR:geoextent.lib.extent:\n"
     ]
    }
   ],
   "source": [
    "import geoextent.lib.extent as geoextent\n",
    "\n",
    "dir_name = 'showcase_geotiff'\n",
    "file_url = 'https://github.com/o2r-project/geoextent/raw/master/tests/testdata/tif/wf_100m_klas.tif'\n",
    "get_showcase_file(dir_name, file_url)\n",
    "\n",
    "geoextent.fromFile('showcase_folder/wf_100m_klas.tif', True, False)"
   ]
  },
  {
   "cell_type": "code",
   "execution_count": 6,
   "metadata": {},
   "outputs": [
    {
     "name": "stderr",
     "output_type": "stream",
     "text": [
      "INFO:root:Extracting bbox=True tbox=False from file showcase_folder/gis_osm_buildings_a_07_1.shp\n"
     ]
    },
    {
     "name": "stderr",
     "output_type": "stream",
     "text": [
      "INFO:root:Module used: shp\n"
     ]
    },
    {
     "name": "stderr",
     "output_type": "stream",
     "text": [
      "INFO:root:Checking validity of showcase_folder/gis_osm_buildings_a_07_1.shp \n",
      "\n"
     ]
    },
    {
     "name": "stderr",
     "output_type": "stream",
     "text": [
      "ERROR:geoextent.lib.extent:\n"
     ]
    },
    {
     "data": {
      "text/plain": [
       "{'format': 'application/shp',\n",
       " 'crs': 'None',\n",
       " 'bbox': [1.24951, 43.4682, 1.695996, 43.74498]}"
      ]
     },
     "execution_count": 6,
     "metadata": {},
     "output_type": "execute_result"
    }
   ],
   "source": [
    "import geoextent.lib.extent as geoextent\n",
    "\n",
    "dir_name = 'showcase_shp'\n",
    "file_url = 'https://www.geofabrik.de/data/shapefiles_toulouse.zip'\n",
    "get_showcase_file(dir_name, file_url, 'shapefiles_toulouse.zip')\n",
    "\n",
    "geoextent.fromFile('showcase_folder/gis_osm_buildings_a_07_1.shp', True, False)"
   ]
  },
  {
   "cell_type": "code",
   "execution_count": 7,
   "metadata": {},
   "outputs": [
    {
     "data": {
      "text/plain": [
       "CompletedProcess(args=['rm', '-rf', 'showcase_folder'], returncode=0)"
      ]
     },
     "execution_count": 7,
     "metadata": {},
     "output_type": "execute_result"
    }
   ],
   "source": [
    "import subprocess\n",
    "# (2) Remove downloaded showcase files\n",
    "subprocess.run([\"rm\", \"-rf\", \"showcase_folder\"])"
   ]
  }
 ],
 "metadata": {
  "kernelspec": {
   "display_name": "Python 3",
   "language": "python",
   "name": "python3"
  },
  "language_info": {
   "codemirror_mode": {
    "name": "ipython",
    "version": 3
   },
   "file_extension": ".py",
   "mimetype": "text/x-python",
   "name": "python",
   "nbconvert_exporter": "python",
   "pygments_lexer": "ipython3",
   "version": "3.7.3"
  }
 },
 "nbformat": 4,
 "nbformat_minor": 4
}