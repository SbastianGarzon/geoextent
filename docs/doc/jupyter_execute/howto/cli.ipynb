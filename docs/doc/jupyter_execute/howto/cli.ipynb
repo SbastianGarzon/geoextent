{
 "cells": [
  {
   "cell_type": "code",
   "execution_count": 1,
   "metadata": {},
   "outputs": [
    {
     "name": "stdout",
     "output_type": "stream",
     "text": [
      "\n",
      "geoextent is a Python library for extracting geospatial and temporal extents of a file or a directory of multiple geospatial data formats.\n",
      "\n",
      "usage: geoextent [-h] [-formats] [-b] [-t] [-input= '[filepath|input file]']\n",
      "\n",
      "optional arguments:\n",
      "  -h, --help            show help message and exit\n",
      "  -formats              show supported formats\n",
      "  -b, --bounding-box    extract spatial extent (bounding box)\n",
      "  -t, --time-box        extract temporal extent\n",
      "  -input= INPUT= [INPUT= ...]\n",
      "                        input file or path\n",
      "\n",
      "By default, both bounding box and temporal extent are extracted.\n",
      "\n",
      "Examples:\n",
      "\n",
      "geoextent path/to/geofile.ext\n",
      "geoextent -b path/to/directory_with_geospatial_data\n",
      "geoextent -t path/to/file_with_temporal_extent\n",
      "geoextent -b -t path/to/geospatial_files\n",
      "\n",
      "\n",
      "Supported formats:\n",
      "- GeoJSON (.geojson)\n",
      "- Tabular data (.csv)\n",
      "- Shapefile (.shp)\n",
      "- GeoTIFF (.geotiff, .tif)\n",
      "\n"
     ]
    }
   ],
   "source": [
    "import geoextent.__main__ as geoextent\n",
    "geoextent.print_help_fun()"
   ]
  },
  {
   "cell_type": "code",
   "execution_count": 2,
   "metadata": {},
   "outputs": [
    {
     "name": "stderr",
     "output_type": "stream",
     "text": [
      "INFO:root:Extracting bbox=True tbox=False from file ../tests/testdata/geojson/muenster_ring_zeit.geojson\n"
     ]
    },
    {
     "name": "stderr",
     "output_type": "stream",
     "text": [
      "INFO:root:Module used: geojson\n"
     ]
    },
    {
     "name": "stderr",
     "output_type": "stream",
     "text": [
      "INFO:root:Checking validity of ../tests/testdata/geojson/muenster_ring_zeit.geojson \n",
      "\n"
     ]
    },
    {
     "name": "stderr",
     "output_type": "stream",
     "text": [
      "INFO:root:Extracting content from path ../tests/testdata/geojson/muenster_ring_zeit.geojson \n",
      "\n"
     ]
    },
    {
     "name": "stderr",
     "output_type": "stream",
     "text": [
      "ERROR:geoextent.lib.extent:\n"
     ]
    },
    {
     "name": "stderr",
     "output_type": "stream",
     "text": [
      "ERROR:geoextent.lib.extent:\n"
     ]
    },
    {
     "data": {
      "text/plain": [
       "{'format': 'application/geojson',\n",
       " 'bbox': [7.60168075561523,\n",
       "  51.9488147720619,\n",
       "  7.64725685119629,\n",
       "  51.9746240298775],\n",
       " 'crs': 4326}"
      ]
     },
     "execution_count": 2,
     "metadata": {},
     "output_type": "execute_result"
    }
   ],
   "source": [
    "import geoextent.lib.extent as geoextent\n",
    "geoextent.fromFile('../tests/testdata/geojson/muenster_ring_zeit.geojson', True, False)"
   ]
  },
  {
   "cell_type": "code",
   "execution_count": 3,
   "metadata": {},
   "outputs": [
    {
     "name": "stderr",
     "output_type": "stream",
     "text": [
      "INFO:root:Extracting bbox=False tbox=True from file ../tests/testdata/geojson/muenster_ring_zeit.geojson\n"
     ]
    },
    {
     "name": "stderr",
     "output_type": "stream",
     "text": [
      "INFO:root:Module used: geojson\n"
     ]
    },
    {
     "name": "stderr",
     "output_type": "stream",
     "text": [
      "INFO:root:Checking validity of ../tests/testdata/geojson/muenster_ring_zeit.geojson \n",
      "\n"
     ]
    },
    {
     "name": "stderr",
     "output_type": "stream",
     "text": [
      "INFO:root:Extracting content from path ../tests/testdata/geojson/muenster_ring_zeit.geojson \n",
      "\n"
     ]
    },
    {
     "name": "stderr",
     "output_type": "stream",
     "text": [
      "WARNING:geoextent.lib.extent:Warning: The CRS cannot be extracted from the file ../tests/testdata/geojson/muenster_ring_zeit.geojson\n"
     ]
    },
    {
     "data": {
      "text/plain": [
       "{'format': 'application/geojson', 'tbox': ['2018-11-14', '2018-11-14']}"
      ]
     },
     "execution_count": 3,
     "metadata": {},
     "output_type": "execute_result"
    }
   ],
   "source": [
    "import geoextent.lib.extent as geoextent\n",
    "geoextent.fromFile('../tests/testdata/geojson/muenster_ring_zeit.geojson', False, True)"
   ]
  },
  {
   "cell_type": "code",
   "execution_count": 4,
   "metadata": {},
   "outputs": [
    {
     "name": "stderr",
     "output_type": "stream",
     "text": [
      "INFO:root:Extracting bbox=True tbox=True from file ../tests/testdata/geojson/muenster_ring_zeit.geojson\n"
     ]
    },
    {
     "name": "stderr",
     "output_type": "stream",
     "text": [
      "INFO:root:Module used: geojson\n"
     ]
    },
    {
     "name": "stderr",
     "output_type": "stream",
     "text": [
      "INFO:root:Checking validity of ../tests/testdata/geojson/muenster_ring_zeit.geojson \n",
      "\n"
     ]
    },
    {
     "name": "stderr",
     "output_type": "stream",
     "text": [
      "INFO:root:Extracting content from path ../tests/testdata/geojson/muenster_ring_zeit.geojson \n",
      "\n"
     ]
    },
    {
     "name": "stderr",
     "output_type": "stream",
     "text": [
      "INFO:root:Extracting content from path ../tests/testdata/geojson/muenster_ring_zeit.geojson \n",
      "\n"
     ]
    },
    {
     "name": "stderr",
     "output_type": "stream",
     "text": [
      "ERROR:geoextent.lib.extent:\n"
     ]
    },
    {
     "data": {
      "text/plain": [
       "{'format': 'application/geojson',\n",
       " 'bbox': [7.60168075561523,\n",
       "  51.9488147720619,\n",
       "  7.64725685119629,\n",
       "  51.9746240298775],\n",
       " 'tbox': ['2018-11-14', '2018-11-14'],\n",
       " 'crs': 4326}"
      ]
     },
     "execution_count": 4,
     "metadata": {},
     "output_type": "execute_result"
    },
    {
     "name": "stderr",
     "output_type": "stream",
     "text": [
      "ERROR:geoextent.lib.extent:\n"
     ]
    }
   ],
   "source": [
    "import geoextent.lib.extent as geoextent\n",
    "geoextent.fromFile('../tests/testdata/geojson/muenster_ring_zeit.geojson', True, True)"
   ]
  }
 ],
 "metadata": {
  "kernelspec": {
   "display_name": "Python 3",
   "language": "python",
   "name": "python3"
  },
  "language_info": {
   "codemirror_mode": {
    "name": "ipython",
    "version": 3
   },
   "file_extension": ".py",
   "mimetype": "text/x-python",
   "name": "python",
   "nbconvert_exporter": "python",
   "pygments_lexer": "ipython3",
   "version": "3.7.3"
  }
 },
 "nbformat": 4,
 "nbformat_minor": 4
}